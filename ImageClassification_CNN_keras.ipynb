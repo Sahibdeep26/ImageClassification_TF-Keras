{
  "nbformat": 4,
  "nbformat_minor": 0,
  "metadata": {
    "kernelspec": {
      "display_name": "Python 3",
      "language": "python",
      "name": "python3"
    },
    "language_info": {
      "codemirror_mode": {
        "name": "ipython",
        "version": 3
      },
      "file_extension": ".py",
      "mimetype": "text/x-python",
      "name": "python",
      "nbconvert_exporter": "python",
      "pygments_lexer": "ipython3",
      "version": "3.7.0"
    },
    "colab": {
      "name": "ImageClassification_CNN_keras.ipynb",
      "provenance": [],
      "include_colab_link": true
    }
  },
  "cells": [
    {
      "cell_type": "markdown",
      "metadata": {
        "id": "view-in-github",
        "colab_type": "text"
      },
      "source": [
        "<a href=\"https://colab.research.google.com/github/the-redlord/ImageClassification_TF-Keras/blob/master/ImageClassification_CNN_keras.ipynb\" target=\"_parent\"><img src=\"https://colab.research.google.com/assets/colab-badge.svg\" alt=\"Open In Colab\"/></a>"
      ]
    },
    {
      "cell_type": "markdown",
      "metadata": {
        "id": "ckXAZQdStFta",
        "colab_type": "text"
      },
      "source": [
        "# Image Classification with CNN using Keras"
      ]
    },
    {
      "cell_type": "markdown",
      "metadata": {
        "id": "p3eK5ZyKtFti",
        "colab_type": "text"
      },
      "source": [
        "# Task 1: Import Libraries"
      ]
    },
    {
      "cell_type": "code",
      "metadata": {
        "id": "dwexwcc2tFtk",
        "colab_type": "code",
        "colab": {
          "base_uri": "https://localhost:8080/",
          "height": 131
        },
        "outputId": "499d7b56-673a-4673-ed75-0d522e66d3ae"
      },
      "source": [
        "import tensorflow as tf\n",
        "import os\n",
        "import numpy as np\n",
        "\n",
        "from matplotlib import pyplot as plt\n",
        "%matplotlib inline\n",
        "\n",
        "if not os.path.isdir('models'):\n",
        "    os.mkdir('models')\n",
        "    \n",
        "print('TensorFlow version:', tf.__version__)\n",
        "print('Is using GPU?', tf.test.is_gpu_available())"
      ],
      "execution_count": 1,
      "outputs": [
        {
          "output_type": "stream",
          "text": [
            "TensorFlow version: 2.2.0\n",
            "WARNING:tensorflow:From <ipython-input-1-baeee846c934>:12: is_gpu_available (from tensorflow.python.framework.test_util) is deprecated and will be removed in a future version.\n",
            "Instructions for updating:\n",
            "Use `tf.config.list_physical_devices('GPU')` instead.\n",
            "Is using GPU? False\n"
          ],
          "name": "stdout"
        }
      ]
    },
    {
      "cell_type": "markdown",
      "metadata": {
        "id": "JTm_m7NMtFt1",
        "colab_type": "text"
      },
      "source": [
        "# Task 2: Preprocess Data"
      ]
    },
    {
      "cell_type": "code",
      "metadata": {
        "id": "9yswv9KjtFt4",
        "colab_type": "code",
        "colab": {}
      },
      "source": [
        "def get_three_classes(x, y):\n",
        "    indices_0, _ = np.where(y == 0.)\n",
        "    indices_1, _ = np.where(y == 1.)\n",
        "    indices_2, _ = np.where(y == 2.)\n",
        "\n",
        "    indices = np.concatenate([indices_0, indices_1, indices_2], axis=0)\n",
        "    \n",
        "    x = x[indices]\n",
        "    y = y[indices]\n",
        "    \n",
        "    count = x.shape[0]\n",
        "    indices = np.random.choice(range(count), count, replace=False)\n",
        "    \n",
        "    x = x[indices]\n",
        "    y = y[indices]\n",
        "    \n",
        "    y = tf.keras.utils.to_categorical(y)\n",
        "    \n",
        "    return x, y"
      ],
      "execution_count": null,
      "outputs": []
    },
    {
      "cell_type": "code",
      "metadata": {
        "id": "amaxVtBHtFuH",
        "colab_type": "code",
        "colab": {}
      },
      "source": [
        ""
      ],
      "execution_count": null,
      "outputs": []
    },
    {
      "cell_type": "markdown",
      "metadata": {
        "id": "eMtKG6lRtFuQ",
        "colab_type": "text"
      },
      "source": [
        "# Task 3: Visualize Examples"
      ]
    },
    {
      "cell_type": "code",
      "metadata": {
        "id": "CuQxt0XxtFuT",
        "colab_type": "code",
        "colab": {}
      },
      "source": [
        "class_names = ['aeroplane', 'car', 'bird']"
      ],
      "execution_count": null,
      "outputs": []
    },
    {
      "cell_type": "code",
      "metadata": {
        "id": "LYlWBgcbtFub",
        "colab_type": "code",
        "colab": {}
      },
      "source": [
        ""
      ],
      "execution_count": null,
      "outputs": []
    },
    {
      "cell_type": "markdown",
      "metadata": {
        "id": "5eWLr4dXtFuj",
        "colab_type": "text"
      },
      "source": [
        "# Task 4: Create Model"
      ]
    },
    {
      "cell_type": "code",
      "metadata": {
        "id": "la-iDZsytFuk",
        "colab_type": "code",
        "colab": {}
      },
      "source": [
        "from tensorflow.keras.layers import Conv2D, MaxPooling2D, BatchNormalization\n",
        "from tensorflow.keras.layers import Dropout, Flatten, Input, Dense"
      ],
      "execution_count": null,
      "outputs": []
    },
    {
      "cell_type": "markdown",
      "metadata": {
        "id": "ZCd_WaLStFuq",
        "colab_type": "text"
      },
      "source": [
        "# Task 5: Train the Model"
      ]
    },
    {
      "cell_type": "code",
      "metadata": {
        "id": "zPyxN99ItFus",
        "colab_type": "code",
        "colab": {}
      },
      "source": [
        ""
      ],
      "execution_count": null,
      "outputs": []
    },
    {
      "cell_type": "markdown",
      "metadata": {
        "id": "eTyhUP8RtFux",
        "colab_type": "text"
      },
      "source": [
        "# Task 6: Final Predictions"
      ]
    },
    {
      "cell_type": "code",
      "metadata": {
        "id": "xc4-gOjctFux",
        "colab_type": "code",
        "colab": {}
      },
      "source": [
        ""
      ],
      "execution_count": null,
      "outputs": []
    },
    {
      "cell_type": "code",
      "metadata": {
        "id": "dyiOVGwrtFu4",
        "colab_type": "code",
        "colab": {}
      },
      "source": [
        ""
      ],
      "execution_count": null,
      "outputs": []
    },
    {
      "cell_type": "code",
      "metadata": {
        "id": "O7aQELpEtFu9",
        "colab_type": "code",
        "colab": {}
      },
      "source": [
        ""
      ],
      "execution_count": null,
      "outputs": []
    }
  ]
}